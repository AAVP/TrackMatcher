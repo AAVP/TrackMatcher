{
 "cells": [
  {
   "cell_type": "code",
   "execution_count": 30,
   "metadata": {},
   "outputs": [],
   "source": [
    "import pandas as pd\n",
    "from musixmatch_api import *\n",
    "df = pd.read_csv(\"slim-2.csv\")"
   ]
  },
  {
   "cell_type": "code",
   "execution_count": 36,
   "metadata": {},
   "outputs": [
    {
     "data": {
      "text/plain": [
       "str"
      ]
     },
     "execution_count": 36,
     "metadata": {},
     "output_type": "execute_result"
    }
   ],
   "source": [
    "x = \"Chile\"\n",
    "iso_3166 = df.drop(\"country-code\", axis = 1)\n",
    "iso_3166.columns = [\"Nombre\", \"Código\"]\n",
    "iso_3166.set_index(\"Nombre\", inplace=True)\n",
    "fila = iso_3166.loc[x]\n",
    "país = fila[\"Código\"]\n",
    "type(país)"
   ]
  },
  {
   "cell_type": "code",
   "execution_count": 40,
   "metadata": {},
   "outputs": [
    {
     "name": "stdout",
     "output_type": "stream",
     "text": [
      "SONGS & LYRICS\n",
      "[1] Buscar\n",
      "[2] Descubrir\n",
      "vwegvw\n"
     ]
    },
    {
     "ename": "ValueError",
     "evalue": "invalid literal for int() with base 10: 'vwegvw'",
     "output_type": "error",
     "traceback": [
      "\u001b[0;31m---------------------------------------------------------------------------\u001b[0m",
      "\u001b[0;31mValueError\u001b[0m                                Traceback (most recent call last)",
      "\u001b[0;32m<ipython-input-40-c3e5c93204ff>\u001b[0m in \u001b[0;36m<module>\u001b[0;34m\u001b[0m\n\u001b[1;32m      2\u001b[0m \u001b[0mprint\u001b[0m\u001b[0;34m(\u001b[0m\u001b[0;34m\"[1] Buscar\"\u001b[0m\u001b[0;34m)\u001b[0m\u001b[0;34m\u001b[0m\u001b[0;34m\u001b[0m\u001b[0m\n\u001b[1;32m      3\u001b[0m \u001b[0mprint\u001b[0m\u001b[0;34m(\u001b[0m\u001b[0;34m\"[2] Descubrir\"\u001b[0m\u001b[0;34m)\u001b[0m\u001b[0;34m\u001b[0m\u001b[0;34m\u001b[0m\u001b[0m\n\u001b[0;32m----> 4\u001b[0;31m \u001b[0mmenu_principal\u001b[0m \u001b[0;34m=\u001b[0m \u001b[0mint\u001b[0m\u001b[0;34m(\u001b[0m\u001b[0minput\u001b[0m\u001b[0;34m(\u001b[0m\u001b[0;34m)\u001b[0m\u001b[0;34m)\u001b[0m\u001b[0;34m\u001b[0m\u001b[0;34m\u001b[0m\u001b[0m\n\u001b[0m\u001b[1;32m      5\u001b[0m \u001b[0;32mif\u001b[0m \u001b[0mmenu_principal\u001b[0m \u001b[0;34m==\u001b[0m \u001b[0;36m1\u001b[0m\u001b[0;34m:\u001b[0m\u001b[0;34m\u001b[0m\u001b[0;34m\u001b[0m\u001b[0m\n\u001b[1;32m      6\u001b[0m     \u001b[0mprint\u001b[0m\u001b[0;34m(\u001b[0m\u001b[0;34m\"[1] Buscar cancion\"\u001b[0m\u001b[0;34m)\u001b[0m\u001b[0;34m\u001b[0m\u001b[0;34m\u001b[0m\u001b[0m\n",
      "\u001b[0;31mValueError\u001b[0m: invalid literal for int() with base 10: 'vwegvw'"
     ]
    }
   ],
   "source": [
    "print(\"SONGS & LYRICS\")\n",
    "print(\"[1] Buscar\")\n",
    "print(\"[2] Descubrir\")\n",
    "menu_principal = int(input())\n",
    "if menu_principal == 1:\n",
    "    print(\"[1] Buscar cancion\")\n",
    "    print(\"[2] Buscar recomendiación por género\")\n",
    "    submenu = int(input())\n",
    "    if submenu == 1:\n",
    "        print(\"Buscar canción por: \")\n",
    "        print(\"[1] Título y Artista\")\n",
    "        print(\"[2] Letra\")\n",
    "        print(\"[3] Sentimientos de la canción (en desarrollo)\")\n",
    "        submenu_1 = int(input())\n",
    "        if submenu_1 == 1:\n",
    "            titulo = input(\"Título de la canción: \")\n",
    "            artista = input(\"Artista: \")\n",
    "            music_matcher(\n",
    "                {\n",
    "                    'by_lyrics': False,\n",
    "                    'track': titulo,\n",
    "                    'artist': artista\n",
    "                }\n",
    "            )\n",
    "        elif submenu_1 == 2:\n",
    "            titulo = input(\"Letra de la canción: \")\n",
    "            artista = input(\"Escribe el nombre del artista. Si no te sabes el nombre del artista, escribe None: \")\n",
    "            if artista != \"None\":\n",
    "                music_matcher(\n",
    "                    {\n",
    "                        'by_lyrics': True,\n",
    "                        \"artist\": artista,\n",
    "                        'lyrics': titulo\n",
    "                    }\n",
    "                )\n",
    "            else:\n",
    "                music_matcher(\n",
    "                    {\n",
    "                        'by_lyrics': True,\n",
    "                        \"artist\": None,\n",
    "                        'lyrics': titulo\n",
    "                    }\n",
    "                )\n",
    "        elif submenu_1 == 3:\n",
    "            print(\"En desarrollo\")\n",
    "        else:\n",
    "            print(\"Oops, ocurrió un error. Intenta nuevamente.\")\n",
    "    elif submenu == 2:\n",
    "        genero = input(\"Escribe tu genero: \")\n",
    "        recommendations_genre(\n",
    "            {\n",
    "            'top': '10',\n",
    "            'genre': genero\n",
    "            }\n",
    "        )\n",
    "elif menu_principal == 2:\n",
    "    print(\"Descubrir Top Charts de:\")\n",
    "    print(\"[1] Canciones\")\n",
    "    print(\"[2] Artistas\")\n",
    "    submenu_2 = int(input())\n",
    "    x = input(\"País: \")\n",
    "    print(\"[1] Top 100\")\n",
    "    print(\"[2] Top 25\")\n",
    "    print(\"[3] Top 10\")\n",
    "    top_charts = int(input())\n",
    "    if top_charts == 1:\n",
    "        top = \"100\"\n",
    "    elif top_charts == 2:\n",
    "        top = \"25\"\n",
    "    elif top_charts == 3:\n",
    "        top = \"10\"\n",
    "    else:\n",
    "        print(\"Oops, ocurrió un error. Intente nuevamente.\")\n",
    "    iso_3166 = df.drop(\"country-code\", axis = 1)\n",
    "    iso_3166.columns = [\"Nombre\", \"Código\"]\n",
    "    iso_3166.set_index(\"Nombre\", inplace=True)\n",
    "    fila = iso_3166.loc[x]\n",
    "    país = fila[\"Código\"]\n",
    "    if submenu_2 == 1:\n",
    "        top_tracks(\n",
    "            {\n",
    "                'top': top,\n",
    "                'country': país,\n",
    "            }\n",
    "        )\n",
    "    elif submenu_2 == 2:\n",
    "        top_artists(\n",
    "        {\n",
    "            'top': top,\n",
    "            'country': país\n",
    "        }\n",
    "        )\n",
    "    else:\n",
    "        print(\"Oops, parece que ocurrió un error\")\n",
    "else:\n",
    "    print(\"Oops, parece que ocurrió un error\")"
   ]
  },
  {
   "cell_type": "code",
   "execution_count": null,
   "metadata": {},
   "outputs": [],
   "source": []
  }
 ],
 "metadata": {
  "kernelspec": {
   "display_name": "Python 3",
   "language": "python",
   "name": "python3"
  },
  "language_info": {
   "codemirror_mode": {
    "name": "ipython",
    "version": 3
   },
   "file_extension": ".py",
   "mimetype": "text/x-python",
   "name": "python",
   "nbconvert_exporter": "python",
   "pygments_lexer": "ipython3",
   "version": "3.8.3"
  }
 },
 "nbformat": 4,
 "nbformat_minor": 4
}